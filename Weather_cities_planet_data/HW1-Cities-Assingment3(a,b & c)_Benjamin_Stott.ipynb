{
 "cells": [
  {
   "cell_type": "markdown",
   "metadata": {
    "slideshow": {
     "slide_type": "slide"
    }
   },
   "source": [
    "# Cities"
   ]
  },
  {
   "cell_type": "code",
   "execution_count": 1,
   "metadata": {
    "slideshow": {
     "slide_type": "fragment"
    }
   },
   "outputs": [],
   "source": [
    "#import numpy and matplotlib\n",
    "import numpy as np\n",
    "import matplotlib.pyplot as plt"
   ]
  },
  {
   "cell_type": "markdown",
   "metadata": {
    "slideshow": {
     "slide_type": "slide"
    }
   },
   "source": [
    "Let's load some columns from the cities.csv file\n"
   ]
  },
  {
   "cell_type": "code",
   "execution_count": 2,
   "metadata": {
    "slideshow": {
     "slide_type": "fragment"
    }
   },
   "outputs": [
    {
     "name": "stdout",
     "output_type": "stream",
     "text": [
      "['35676000' '19354922' '19028000' ... '10' '10' '10']\n"
     ]
    }
   ],
   "source": [
    "city, country,latitude,longitude,pop = np.loadtxt('cities.csv', delimiter=',', dtype=str,unpack=True )\n",
    "print(pop)\n",
    "#loads datafile with corresponding labels\n",
    "#print pop is performed just to verify that values are correct"
   ]
  },
  {
   "cell_type": "markdown",
   "metadata": {},
   "source": []
  },
  {
   "cell_type": "markdown",
   "metadata": {},
   "source": [
    "## Assignment 3: Big Cities \n",
    "\n",
    "Use numpy tools to obtain the following from the cities database:\n",
    "\n",
    "a) A list of the 10 most populous cities in China (code CHN), and their populations\n",
    "\n",
    "b) A list of the 5 countries with the greatest number of cities in the database.\n",
    "\n",
    "c) A histogram, showing the breakdown of city sizes, for the country with the most cities.  \n",
    "_Hint: For the best results here, you may need to manually change the binsizes and/or axes scales to logarithmic._\n",
    "\n"
   ]
  },
  {
   "cell_type": "code",
   "execution_count": 3,
   "metadata": {},
   "outputs": [
    {
     "name": "stdout",
     "output_type": "stream",
     "text": [
      "Population ||Chinese City\n",
      "---------------------------\n",
      "14987000   ||  Shanghai\n",
      "11106000   ||  Beijing\n",
      "8829000   ||  Guangzhou\n",
      "7581000   ||  Shenzhen\n",
      "7243000   ||  Wuhan\n",
      "7180000   ||  Tianjin\n",
      "6461000   ||  Chongqing\n",
      "4787000   ||  Shenyang\n",
      "4528000   ||  Dongguan\n",
      "4123000   ||  Chengdu\n"
     ]
    }
   ],
   "source": [
    "china=np.where(country=='CHN')\n",
    "china_pop=pop[china]\n",
    "city_china=city[china]\n",
    "#filters cities in china and populations in china\n",
    "print ('%-10s %-10s' % ('Population',  '||Chinese City'))\n",
    "print('---------------------------')\n",
    "for i in range(10):\n",
    "    print  (china_pop[i],' ','||','', city_china[i] )\n",
    "#since the file is already ordered from highest population to lowest population we can just take the first 10 values\n",
    "#a list of these is shown by the print command with || separating each corresponding value for clarity"
   ]
  },
  {
   "cell_type": "code",
   "execution_count": 4,
   "metadata": {},
   "outputs": [],
   "source": [
    "unique_country=np.unique(country)\n",
    "#finds each unique value for country that could occur\n",
    "country_list=[]\n",
    "#empty list\n",
    "for countries in unique_country:\n",
    "    country_list.append(np.count_nonzero(country==countries))\n",
    "#print(country_list)\n",
    "#makes a count of number of times a country's code is called, allowing us to know how many cities were analysed\n"
   ]
  },
  {
   "cell_type": "code",
   "execution_count": 5,
   "metadata": {},
   "outputs": [
    {
     "name": "stdout",
     "output_type": "stream",
     "text": [
      "('USA', 7327)\n",
      "('RUS', 564)\n",
      "('CHN', 392)\n",
      "('BRA', 387)\n",
      "('CAN', 249)\n"
     ]
    }
   ],
   "source": [
    "cities_per_country=[]\n",
    "zipped_country_cities=zip(unique_country,country_list)\n",
    "for something in zipped_country_cities:\n",
    "    cities_per_country.append(something)\n",
    "#creates list of tuples in cities_per_country to make sorting easier\n",
    "cities_per_country_in_order=sorted(cities_per_country,reverse=True, key=lambda x: x[1])\n",
    "#sorts the list of tuples in descending order from the second value in each tuple\n",
    "for i in range(5):\n",
    "    print(cities_per_country_in_order[i])\n",
    "#prints 5 countries with largest amount of cities and their amounts"
   ]
  },
  {
   "cell_type": "code",
   "execution_count": 7,
   "metadata": {},
   "outputs": [
    {
     "data": {
      "image/png": "[encoded data removed]",
      "text/plain": [
       "<Figure size 432x288 with 1 Axes>"
      ]
     },
     "metadata": {},
     "output_type": "display_data"
    }
   ],
   "source": [
    "America=np.where(country=='USA')\n",
    "#condition where values must correspond to the USA\n",
    "cities_america=city[America]\n",
    "population_city_america=pop[America]\n",
    "#returns cities and populations that only correspond to american values\n",
    "\n",
    "float_pop_city_america = population_city_america.astype('float64')\n",
    "#makes population a float so it's easier to process\n",
    "fig = plt.figure(1)\n",
    "ax = fig.add_subplot(111)\n",
    "#makes figure\n",
    "ax.hist(float_pop_city_america, bins=10**np.linspace(3.5,7))\n",
    "#makes a semilog plot from 10^3.5 to 10^7\n",
    "#this limit was determined manually after seeing which ones returned the best figure\n",
    "ax.set_xscale('log')\n",
    "#sets x scale to log as large values are being dealt with, with a wide spread\n",
    "#need to discern smaller values\n",
    "ax.set_yscale('log')\n",
    "#y scale is in log notation too as some larger values of population are only present in a 2 digit number of cities\n",
    "#plots year vs fluctuation for specific date\n",
    "ax.set_xlabel('population',fontsize='10')\n",
    "ax.set_ylabel('number of cities with population size',fontsize='11')\n",
    "#creates x and y labels\n",
    "\n",
    "ax.spines['bottom'].set_color('yellow')\n",
    "ax.spines['top'].set_color('yellow')\n",
    "ax.spines['left'].set_color('yellow')\n",
    "ax.spines['right'].set_color('yellow')\n",
    "ax.spines[\"bottom\"].set_linewidth(6)\n",
    "ax.spines[\"top\"].set_linewidth(6)\n",
    "ax.spines[\"left\"].set_linewidth(6)\n",
    "ax.spines[\"right\"].set_linewidth(6)\n",
    "#changes colour and thickness of spines\n",
    "ax.set_facecolor('red')\n",
    "ax.tick_params(axis='x', colors='white')\n",
    "ax.tick_params(axis='y', colors='white')\n",
    "ax.yaxis.label.set_color('white')\n",
    "ax.xaxis.label.set_color('white')\n",
    "ax.title.set_color('white')\n",
    "#makes x and y ticks visible against purple background\n",
    "plt.gcf().set_facecolor('purple')\n",
    "plt.grid(color='grey')\n",
    "#sets gridlines and background colour\n",
    "plt.title('number of cities in America with a certain population(histogram)')\n",
    "plt.show()\n",
    "#as can be seen, most cities in the US have a population less than 10,000 and bar height decreases as we go\n",
    "#much fewer cities are in the range of the 100,000s\n",
    "#and once again, even less cities are in the millions as denoted by the loglog scaling\n",
    "\n"
   ]
  },
  {
   "cell_type": "code",
   "execution_count": null,
   "metadata": {},
   "outputs": [],
   "source": []
  }
 ],
 "metadata": {
  "kernelspec": {
   "display_name": "Python 3",
   "language": "python",
   "name": "python3"
  },
  "language_info": {
   "codemirror_mode": {
    "name": "ipython",
    "version": 3
   },
   "file_extension": ".py",
   "mimetype": "text/x-python",
   "name": "python",
   "nbconvert_exporter": "python",
   "pygments_lexer": "ipython3",
   "version": "3.8.3"
  }
 },
 "nbformat": 4,
 "nbformat_minor": 2
}
